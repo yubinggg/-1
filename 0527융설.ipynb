{
 "cells": [
  {
   "cell_type": "code",
   "execution_count": 4,
   "id": "96e6b808-2a0a-4258-9c41-145a93a33200",
   "metadata": {},
   "outputs": [
    {
     "name": "stdout",
     "output_type": "stream",
     "text": [
      "Best parameters: {'learning_rate': 1.0, 'n_estimators': 200}\n",
      "Best cross-validation score: 0.94\n"
     ]
    }
   ],
   "source": [
    "from sklearn.ensemble import AdaBoostClassifier\n",
    "from sklearn.model_selection import GridSearchCV\n",
    "from sklearn.datasets import load_iris\n",
    "from sklearn.model_selection import train_test_split\n",
    "\n",
    "# 데이터 로드 및 분할\n",
    "iris = load_iris()\n",
    "X, y = iris.data, iris.target\n",
    "X_train, X_test, y_train, y_test = train_test_split(X, y, test_size=0.2, random_state=42)\n",
    "\n",
    "# 모델 정의\n",
    "model = AdaBoostClassifier()\n",
    "\n",
    "# 파라미터 그리드 정의\n",
    "param_grid = {\n",
    "    'n_estimators': [50, 100, 200],\n",
    "    'learning_rate': [0.01, 0.1, 1.0]\n",
    "}\n",
    "\n",
    "# GridSearchCV 설정\n",
    "grid_search = GridSearchCV(estimator=model, param_grid=param_grid, cv=5, scoring='accuracy')\n",
    "\n",
    "# 그리드 서치 수행\n",
    "grid_search.fit(X_train, y_train)\n",
    "\n",
    "# 최적의 파라미터 및 최적의 교차 검증 점수 출력\n",
    "print(f\"Best parameters: {grid_search.best_params_}\")\n",
    "print(f\"Best cross-validation score: {grid_search.best_score_:.2f}\")\n"
   ]
  },
  {
   "cell_type": "code",
   "execution_count": 5,
   "id": "67687cb5-ee2b-4bf0-afea-031ed65835c1",
   "metadata": {},
   "outputs": [
    {
     "name": "stdout",
     "output_type": "stream",
     "text": [
      "Random Forest:\n",
      "Best parameters:{'max_depth': 20, 'max_features': 'log2', 'n_estimators': 100}\n",
      "Best cross-validation score:0.96\n"
     ]
    },
    {
     "name": "stderr",
     "output_type": "stream",
     "text": [
      "C:\\Users\\cloud\\.conda\\envs\\acd\\lib\\site-packages\\sklearn\\model_selection\\_validation.py:425: FitFailedWarning: \n",
      "45 fits failed out of a total of 135.\n",
      "The score on these train-test partitions for these parameters will be set to nan.\n",
      "If these failures are not expected, you can try to debug them by setting error_score='raise'.\n",
      "\n",
      "Below are more details about the failures:\n",
      "--------------------------------------------------------------------------------\n",
      "45 fits failed with the following error:\n",
      "Traceback (most recent call last):\n",
      "  File \"C:\\Users\\cloud\\.conda\\envs\\acd\\lib\\site-packages\\sklearn\\model_selection\\_validation.py\", line 729, in _fit_and_score\n",
      "    estimator.fit(X_train, y_train, **fit_params)\n",
      "  File \"C:\\Users\\cloud\\.conda\\envs\\acd\\lib\\site-packages\\sklearn\\base.py\", line 1145, in wrapper\n",
      "    estimator._validate_params()\n",
      "  File \"C:\\Users\\cloud\\.conda\\envs\\acd\\lib\\site-packages\\sklearn\\base.py\", line 638, in _validate_params\n",
      "    validate_parameter_constraints(\n",
      "  File \"C:\\Users\\cloud\\.conda\\envs\\acd\\lib\\site-packages\\sklearn\\utils\\_param_validation.py\", line 96, in validate_parameter_constraints\n",
      "    raise InvalidParameterError(\n",
      "sklearn.utils._param_validation.InvalidParameterError: The 'max_features' parameter of RandomForestClassifier must be an int in the range [1, inf), a float in the range (0.0, 1.0], a str among {'log2', 'sqrt'} or None. Got 'auto' instead.\n",
      "\n",
      "  warnings.warn(some_fits_failed_message, FitFailedWarning)\n",
      "C:\\Users\\cloud\\.conda\\envs\\acd\\lib\\site-packages\\sklearn\\model_selection\\_search.py:979: UserWarning: One or more of the test scores are non-finite: [       nan        nan        nan 0.94166667 0.94166667 0.94166667\n",
      " 0.94166667 0.95       0.95              nan        nan        nan\n",
      " 0.94166667 0.95       0.95       0.95833333 0.94166667 0.95\n",
      "        nan        nan        nan 0.95       0.95       0.95\n",
      " 0.95833333 0.94166667 0.95      ]\n",
      "  warnings.warn(\n"
     ]
    }
   ],
   "source": [
    "from sklearn.ensemble import RandomForestClassifier\n",
    "\n",
    "rf_model=RandomForestClassifier()\n",
    "\n",
    "rf_param_grid={\n",
    "    'n_estimators':[100,200,300],\n",
    "    'max_features':['auto','sqrt','log2'],\n",
    "    'max_depth':[10,20,30]\n",
    "}\n",
    "\n",
    "rf_grid_search=GridSearchCV(estimator=rf_model,param_grid=rf_param_grid, cv=5, scoring='accuracy')\n",
    "\n",
    "rf_grid_search.fit(X_train, y_train)\n",
    "\n",
    "print(\"Random Forest:\")\n",
    "print(f\"Best parameters:{rf_grid_search.best_params_}\")\n",
    "print(f\"Best cross-validation score:{rf_grid_search.best_score_:.2f}\")"
   ]
  },
  {
   "cell_type": "code",
   "execution_count": 11,
   "id": "be600c60-51ec-420d-8da2-0c0c513ce58b",
   "metadata": {
    "scrolled": true
   },
   "outputs": [
    {
     "name": "stdout",
     "output_type": "stream",
     "text": [
      "Decicion Tree:\n",
      "Best parameters:{'max_depth': None, 'min_samples_leaf': 5, 'min_samples_split': 2}\n",
      "Best cross-validation score: 0.95\n"
     ]
    }
   ],
   "source": [
    "from sklearn.tree import DecisionTreeClassifier\n",
    "\n",
    "dt_model=DecisionTreeClassifier()\n",
    "\n",
    "dt_param_grid={\n",
    "    'max_depth':[None, 10, 20, 30],\n",
    "    'min_samples_split':[2,10,20],\n",
    "    'min_samples_leaf':[1,5,10]\n",
    "}\n",
    "\n",
    "dt_grid_search=GridSearchCV(estimator=dt_model, param_grid=dt_param_grid,cv=5, scoring='accuracy')\n",
    "\n",
    "dt_grid_search.fit(X_train, y_train)\n",
    "\n",
    "print(\"Decicion Tree:\")\n",
    "print(f\"Best parameters:{dt_grid_search.best_params_}\")\n",
    "print(f\"Best cross-validation score: {dt_grid_search.best_score_:.2f}\")"
   ]
  },
  {
   "cell_type": "code",
   "execution_count": null,
   "id": "4b26d646-12ae-434c-a1ab-67f8f6f8222b",
   "metadata": {},
   "outputs": [],
   "source": []
  }
 ],
 "metadata": {
  "kernelspec": {
   "display_name": "acd",
   "language": "python",
   "name": "acd"
  },
  "language_info": {
   "codemirror_mode": {
    "name": "ipython",
    "version": 3
   },
   "file_extension": ".py",
   "mimetype": "text/x-python",
   "name": "python",
   "nbconvert_exporter": "python",
   "pygments_lexer": "ipython3",
   "version": "3.8.0"
  }
 },
 "nbformat": 4,
 "nbformat_minor": 5
}
